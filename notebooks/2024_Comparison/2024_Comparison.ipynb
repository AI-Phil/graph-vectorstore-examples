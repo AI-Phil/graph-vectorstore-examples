{
 "cells": [
  {
   "cell_type": "markdown",
   "metadata": {},
   "source": [
    "# Environment / Dependencies"
   ]
  },
  {
   "cell_type": "code",
   "execution_count": 10,
   "metadata": {},
   "outputs": [
    {
     "name": "stdout",
     "output_type": "stream",
     "text": [
      "Requirement already satisfied: python-dotenv<2,>=1.0.1 in /Users/benjamin.chambers/code/graph-vectorstore-examples/.venv/lib/python3.11/site-packages (from -r ../../common_requirements.txt (line 1)) (1.0.1)\n",
      "Requirement already satisfied: langchain-core==0.2.27 in /Users/benjamin.chambers/code/graph-vectorstore-examples/.venv/lib/python3.11/site-packages (from -r ../../common_requirements.txt (line 2)) (0.2.27)\n",
      "Requirement already satisfied: langchain-community==0.2.11 in /Users/benjamin.chambers/code/graph-vectorstore-examples/.venv/lib/python3.11/site-packages (from -r ../../common_requirements.txt (line 3)) (0.2.11)\n",
      "Requirement already satisfied: langchain-openai==0.1.20 in /Users/benjamin.chambers/code/graph-vectorstore-examples/.venv/lib/python3.11/site-packages (from -r ../../common_requirements.txt (line 4)) (0.1.20)\n",
      "Requirement already satisfied: langchainhub==0.1.21 in /Users/benjamin.chambers/code/graph-vectorstore-examples/.venv/lib/python3.11/site-packages (from -r ../../common_requirements.txt (line 5)) (0.1.21)\n",
      "Requirement already satisfied: langsmith==0.1.99 in /Users/benjamin.chambers/code/graph-vectorstore-examples/.venv/lib/python3.11/site-packages (from -r ../../common_requirements.txt (line 6)) (0.1.99)\n",
      "Requirement already satisfied: ragstack-ai-knowledge-store<0.3,>=0.2.1 in /Users/benjamin.chambers/code/graph-vectorstore-examples/.venv/lib/python3.11/site-packages (from -r ../../common_requirements.txt (line 7)) (0.2.1)\n",
      "Requirement already satisfied: simsimd<6.0.0,>=5.0.0 in /Users/benjamin.chambers/code/graph-vectorstore-examples/.venv/lib/python3.11/site-packages (from -r ../../common_requirements.txt (line 8)) (5.4.3)\n",
      "Requirement already satisfied: tqdm<4.67,>=4.66.4 in /Users/benjamin.chambers/code/graph-vectorstore-examples/.venv/lib/python3.11/site-packages (from -r ../../common_requirements.txt (line 9)) (4.66.5)\n",
      "Requirement already satisfied: networkx in /Users/benjamin.chambers/code/graph-vectorstore-examples/.venv/lib/python3.11/site-packages (from -r ../../common_requirements.txt (line 10)) (3.3)\n",
      "Collecting langchain_experimental (from -r requirements.txt (line 3))\n",
      "  Downloading langchain_experimental-0.3.2-py3-none-any.whl.metadata (1.7 kB)\n",
      "Requirement already satisfied: PyYAML>=5.3 in /Users/benjamin.chambers/code/graph-vectorstore-examples/.venv/lib/python3.11/site-packages (from langchain-core==0.2.27->-r ../../common_requirements.txt (line 2)) (6.0.2)\n",
      "Requirement already satisfied: jsonpatch<2.0,>=1.33 in /Users/benjamin.chambers/code/graph-vectorstore-examples/.venv/lib/python3.11/site-packages (from langchain-core==0.2.27->-r ../../common_requirements.txt (line 2)) (1.33)\n",
      "Requirement already satisfied: packaging<25,>=23.2 in /Users/benjamin.chambers/code/graph-vectorstore-examples/.venv/lib/python3.11/site-packages (from langchain-core==0.2.27->-r ../../common_requirements.txt (line 2)) (24.1)\n",
      "Requirement already satisfied: pydantic<3,>=1 in /Users/benjamin.chambers/code/graph-vectorstore-examples/.venv/lib/python3.11/site-packages (from langchain-core==0.2.27->-r ../../common_requirements.txt (line 2)) (2.8.2)\n",
      "Requirement already satisfied: tenacity!=8.4.0,<9.0.0,>=8.1.0 in /Users/benjamin.chambers/code/graph-vectorstore-examples/.venv/lib/python3.11/site-packages (from langchain-core==0.2.27->-r ../../common_requirements.txt (line 2)) (8.5.0)\n",
      "Requirement already satisfied: typing-extensions>=4.7 in /Users/benjamin.chambers/code/graph-vectorstore-examples/.venv/lib/python3.11/site-packages (from langchain-core==0.2.27->-r ../../common_requirements.txt (line 2)) (4.12.2)\n",
      "Requirement already satisfied: SQLAlchemy<3,>=1.4 in /Users/benjamin.chambers/code/graph-vectorstore-examples/.venv/lib/python3.11/site-packages (from langchain-community==0.2.11->-r ../../common_requirements.txt (line 3)) (2.0.32)\n",
      "Requirement already satisfied: aiohttp<4.0.0,>=3.8.3 in /Users/benjamin.chambers/code/graph-vectorstore-examples/.venv/lib/python3.11/site-packages (from langchain-community==0.2.11->-r ../../common_requirements.txt (line 3)) (3.10.3)\n",
      "Requirement already satisfied: dataclasses-json<0.7,>=0.5.7 in /Users/benjamin.chambers/code/graph-vectorstore-examples/.venv/lib/python3.11/site-packages (from langchain-community==0.2.11->-r ../../common_requirements.txt (line 3)) (0.6.7)\n",
      "Requirement already satisfied: langchain<0.3.0,>=0.2.12 in /Users/benjamin.chambers/code/graph-vectorstore-examples/.venv/lib/python3.11/site-packages (from langchain-community==0.2.11->-r ../../common_requirements.txt (line 3)) (0.2.12)\n",
      "Requirement already satisfied: numpy<2,>=1 in /Users/benjamin.chambers/code/graph-vectorstore-examples/.venv/lib/python3.11/site-packages (from langchain-community==0.2.11->-r ../../common_requirements.txt (line 3)) (1.26.4)\n",
      "Requirement already satisfied: requests<3,>=2 in /Users/benjamin.chambers/code/graph-vectorstore-examples/.venv/lib/python3.11/site-packages (from langchain-community==0.2.11->-r ../../common_requirements.txt (line 3)) (2.32.3)\n",
      "Requirement already satisfied: openai<2.0.0,>=1.32.0 in /Users/benjamin.chambers/code/graph-vectorstore-examples/.venv/lib/python3.11/site-packages (from langchain-openai==0.1.20->-r ../../common_requirements.txt (line 4)) (1.40.3)\n",
      "Requirement already satisfied: tiktoken<1,>=0.7 in /Users/benjamin.chambers/code/graph-vectorstore-examples/.venv/lib/python3.11/site-packages (from langchain-openai==0.1.20->-r ../../common_requirements.txt (line 4)) (0.7.0)\n",
      "Requirement already satisfied: types-requests<3.0.0.0,>=2.31.0.2 in /Users/benjamin.chambers/code/graph-vectorstore-examples/.venv/lib/python3.11/site-packages (from langchainhub==0.1.21->-r ../../common_requirements.txt (line 5)) (2.32.0.20240712)\n",
      "Requirement already satisfied: orjson<4.0.0,>=3.9.14 in /Users/benjamin.chambers/code/graph-vectorstore-examples/.venv/lib/python3.11/site-packages (from langsmith==0.1.99->-r ../../common_requirements.txt (line 6)) (3.10.7)\n",
      "Requirement already satisfied: cassio<0.2.0,>=0.1.7 in /Users/benjamin.chambers/code/graph-vectorstore-examples/.venv/lib/python3.11/site-packages (from ragstack-ai-knowledge-store<0.3,>=0.2.1->-r ../../common_requirements.txt (line 7)) (0.1.8)\n",
      "INFO: pip is looking at multiple versions of langchain-experimental to determine which version is compatible with other requirements. This could take a while.\n",
      "  Downloading langchain_experimental-0.3.1.post1-py3-none-any.whl.metadata (1.7 kB)\n",
      "  Downloading langchain_experimental-0.3.1-py3-none-any.whl.metadata (1.7 kB)\n",
      "  Downloading langchain_experimental-0.3.0-py3-none-any.whl.metadata (1.7 kB)\n",
      "  Downloading langchain_experimental-0.0.65-py3-none-any.whl.metadata (1.7 kB)\n",
      "  Downloading langchain_experimental-0.0.64-py3-none-any.whl.metadata (1.7 kB)\n",
      "Requirement already satisfied: aiohappyeyeballs>=2.3.0 in /Users/benjamin.chambers/code/graph-vectorstore-examples/.venv/lib/python3.11/site-packages (from aiohttp<4.0.0,>=3.8.3->langchain-community==0.2.11->-r ../../common_requirements.txt (line 3)) (2.3.5)\n",
      "Requirement already satisfied: aiosignal>=1.1.2 in /Users/benjamin.chambers/code/graph-vectorstore-examples/.venv/lib/python3.11/site-packages (from aiohttp<4.0.0,>=3.8.3->langchain-community==0.2.11->-r ../../common_requirements.txt (line 3)) (1.3.1)\n",
      "Requirement already satisfied: attrs>=17.3.0 in /Users/benjamin.chambers/code/graph-vectorstore-examples/.venv/lib/python3.11/site-packages (from aiohttp<4.0.0,>=3.8.3->langchain-community==0.2.11->-r ../../common_requirements.txt (line 3)) (24.2.0)\n",
      "Requirement already satisfied: frozenlist>=1.1.1 in /Users/benjamin.chambers/code/graph-vectorstore-examples/.venv/lib/python3.11/site-packages (from aiohttp<4.0.0,>=3.8.3->langchain-community==0.2.11->-r ../../common_requirements.txt (line 3)) (1.4.1)\n",
      "Requirement already satisfied: multidict<7.0,>=4.5 in /Users/benjamin.chambers/code/graph-vectorstore-examples/.venv/lib/python3.11/site-packages (from aiohttp<4.0.0,>=3.8.3->langchain-community==0.2.11->-r ../../common_requirements.txt (line 3)) (6.0.5)\n",
      "Requirement already satisfied: yarl<2.0,>=1.0 in /Users/benjamin.chambers/code/graph-vectorstore-examples/.venv/lib/python3.11/site-packages (from aiohttp<4.0.0,>=3.8.3->langchain-community==0.2.11->-r ../../common_requirements.txt (line 3)) (1.9.4)\n",
      "Requirement already satisfied: cassandra-driver<4.0.0,>=3.28.0 in /Users/benjamin.chambers/code/graph-vectorstore-examples/.venv/lib/python3.11/site-packages (from cassio<0.2.0,>=0.1.7->ragstack-ai-knowledge-store<0.3,>=0.2.1->-r ../../common_requirements.txt (line 7)) (3.29.1)\n",
      "Requirement already satisfied: marshmallow<4.0.0,>=3.18.0 in /Users/benjamin.chambers/code/graph-vectorstore-examples/.venv/lib/python3.11/site-packages (from dataclasses-json<0.7,>=0.5.7->langchain-community==0.2.11->-r ../../common_requirements.txt (line 3)) (3.21.3)\n",
      "Requirement already satisfied: typing-inspect<1,>=0.4.0 in /Users/benjamin.chambers/code/graph-vectorstore-examples/.venv/lib/python3.11/site-packages (from dataclasses-json<0.7,>=0.5.7->langchain-community==0.2.11->-r ../../common_requirements.txt (line 3)) (0.9.0)\n",
      "Requirement already satisfied: jsonpointer>=1.9 in /Users/benjamin.chambers/code/graph-vectorstore-examples/.venv/lib/python3.11/site-packages (from jsonpatch<2.0,>=1.33->langchain-core==0.2.27->-r ../../common_requirements.txt (line 2)) (3.0.0)\n",
      "Requirement already satisfied: langchain-text-splitters<0.3.0,>=0.2.0 in /Users/benjamin.chambers/code/graph-vectorstore-examples/.venv/lib/python3.11/site-packages (from langchain<0.3.0,>=0.2.12->langchain-community==0.2.11->-r ../../common_requirements.txt (line 3)) (0.2.2)\n",
      "Requirement already satisfied: anyio<5,>=3.5.0 in /Users/benjamin.chambers/code/graph-vectorstore-examples/.venv/lib/python3.11/site-packages (from openai<2.0.0,>=1.32.0->langchain-openai==0.1.20->-r ../../common_requirements.txt (line 4)) (4.4.0)\n",
      "Requirement already satisfied: distro<2,>=1.7.0 in /Users/benjamin.chambers/code/graph-vectorstore-examples/.venv/lib/python3.11/site-packages (from openai<2.0.0,>=1.32.0->langchain-openai==0.1.20->-r ../../common_requirements.txt (line 4)) (1.9.0)\n",
      "Requirement already satisfied: httpx<1,>=0.23.0 in /Users/benjamin.chambers/code/graph-vectorstore-examples/.venv/lib/python3.11/site-packages (from openai<2.0.0,>=1.32.0->langchain-openai==0.1.20->-r ../../common_requirements.txt (line 4)) (0.27.0)\n",
      "Requirement already satisfied: jiter<1,>=0.4.0 in /Users/benjamin.chambers/code/graph-vectorstore-examples/.venv/lib/python3.11/site-packages (from openai<2.0.0,>=1.32.0->langchain-openai==0.1.20->-r ../../common_requirements.txt (line 4)) (0.5.0)\n",
      "Requirement already satisfied: sniffio in /Users/benjamin.chambers/code/graph-vectorstore-examples/.venv/lib/python3.11/site-packages (from openai<2.0.0,>=1.32.0->langchain-openai==0.1.20->-r ../../common_requirements.txt (line 4)) (1.3.1)\n",
      "Requirement already satisfied: annotated-types>=0.4.0 in /Users/benjamin.chambers/code/graph-vectorstore-examples/.venv/lib/python3.11/site-packages (from pydantic<3,>=1->langchain-core==0.2.27->-r ../../common_requirements.txt (line 2)) (0.7.0)\n",
      "Requirement already satisfied: pydantic-core==2.20.1 in /Users/benjamin.chambers/code/graph-vectorstore-examples/.venv/lib/python3.11/site-packages (from pydantic<3,>=1->langchain-core==0.2.27->-r ../../common_requirements.txt (line 2)) (2.20.1)\n",
      "Requirement already satisfied: charset-normalizer<4,>=2 in /Users/benjamin.chambers/code/graph-vectorstore-examples/.venv/lib/python3.11/site-packages (from requests<3,>=2->langchain-community==0.2.11->-r ../../common_requirements.txt (line 3)) (3.3.2)\n",
      "Requirement already satisfied: idna<4,>=2.5 in /Users/benjamin.chambers/code/graph-vectorstore-examples/.venv/lib/python3.11/site-packages (from requests<3,>=2->langchain-community==0.2.11->-r ../../common_requirements.txt (line 3)) (3.7)\n",
      "Requirement already satisfied: urllib3<3,>=1.21.1 in /Users/benjamin.chambers/code/graph-vectorstore-examples/.venv/lib/python3.11/site-packages (from requests<3,>=2->langchain-community==0.2.11->-r ../../common_requirements.txt (line 3)) (2.2.2)\n",
      "Requirement already satisfied: certifi>=2017.4.17 in /Users/benjamin.chambers/code/graph-vectorstore-examples/.venv/lib/python3.11/site-packages (from requests<3,>=2->langchain-community==0.2.11->-r ../../common_requirements.txt (line 3)) (2024.7.4)\n",
      "Requirement already satisfied: regex>=2022.1.18 in /Users/benjamin.chambers/code/graph-vectorstore-examples/.venv/lib/python3.11/site-packages (from tiktoken<1,>=0.7->langchain-openai==0.1.20->-r ../../common_requirements.txt (line 4)) (2024.7.24)\n",
      "Requirement already satisfied: geomet<0.3,>=0.1 in /Users/benjamin.chambers/code/graph-vectorstore-examples/.venv/lib/python3.11/site-packages (from cassandra-driver<4.0.0,>=3.28.0->cassio<0.2.0,>=0.1.7->ragstack-ai-knowledge-store<0.3,>=0.2.1->-r ../../common_requirements.txt (line 7)) (0.2.1.post1)\n",
      "Requirement already satisfied: httpcore==1.* in /Users/benjamin.chambers/code/graph-vectorstore-examples/.venv/lib/python3.11/site-packages (from httpx<1,>=0.23.0->openai<2.0.0,>=1.32.0->langchain-openai==0.1.20->-r ../../common_requirements.txt (line 4)) (1.0.5)\n",
      "Requirement already satisfied: h11<0.15,>=0.13 in /Users/benjamin.chambers/code/graph-vectorstore-examples/.venv/lib/python3.11/site-packages (from httpcore==1.*->httpx<1,>=0.23.0->openai<2.0.0,>=1.32.0->langchain-openai==0.1.20->-r ../../common_requirements.txt (line 4)) (0.14.0)\n",
      "Requirement already satisfied: mypy-extensions>=0.3.0 in /Users/benjamin.chambers/code/graph-vectorstore-examples/.venv/lib/python3.11/site-packages (from typing-inspect<1,>=0.4.0->dataclasses-json<0.7,>=0.5.7->langchain-community==0.2.11->-r ../../common_requirements.txt (line 3)) (1.0.0)\n",
      "Requirement already satisfied: click in /Users/benjamin.chambers/code/graph-vectorstore-examples/.venv/lib/python3.11/site-packages (from geomet<0.3,>=0.1->cassandra-driver<4.0.0,>=3.28.0->cassio<0.2.0,>=0.1.7->ragstack-ai-knowledge-store<0.3,>=0.2.1->-r ../../common_requirements.txt (line 7)) (8.1.7)\n",
      "Requirement already satisfied: six in /Users/benjamin.chambers/code/graph-vectorstore-examples/.venv/lib/python3.11/site-packages (from geomet<0.3,>=0.1->cassandra-driver<4.0.0,>=3.28.0->cassio<0.2.0,>=0.1.7->ragstack-ai-knowledge-store<0.3,>=0.2.1->-r ../../common_requirements.txt (line 7)) (1.16.0)\n",
      "Downloading langchain_experimental-0.0.64-py3-none-any.whl (204 kB)\n",
      "Installing collected packages: langchain_experimental\n",
      "Successfully installed langchain_experimental-0.0.64\n",
      "Note: you may need to restart the kernel to use updated packages.\n"
     ]
    }
   ],
   "source": [
    "#@ Install modules\n",
    "%pip install -U -r requirements.txt"
   ]
  },
  {
   "cell_type": "code",
   "execution_count": 2,
   "metadata": {},
   "outputs": [],
   "source": [
    "#@ Configure import paths.\n",
    "import sys\n",
    "sys.path.append(\"../../\")\n",
    "\n",
    "# Initialize environment variables.\n",
    "from utils import initialize_environment\n",
    "initialize_environment()"
   ]
  },
  {
   "cell_type": "markdown",
   "metadata": {},
   "source": [
    "# Data to Load\n",
    "For this notebook, we'll work on loading the first 100 articles from Wikipedia. We use Wikipedia data from the [2wikimultihop](https://github.com/Alab-NII/2wikimultihop) dataset. To execute the rest of the notebook, you will need to download [para_with_hyperlink.zip](https://www.dropbox.com/s/wlhw26kik59wbh8/para_with_hyperlink.zip) to the `wikimultihop` directory."
   ]
  },
  {
   "cell_type": "code",
   "execution_count": 3,
   "metadata": {},
   "outputs": [],
   "source": [
    "from itertools import islice\n",
    "from datasets.wikimultihop.load import wikipedia_lines\n",
    "\n",
    "NUM_LINES_TO_LOAD = 100\n",
    "lines_to_load = list(islice(wikipedia_lines(), 100))"
   ]
  },
  {
   "cell_type": "markdown",
   "metadata": {},
   "source": [
    "# Content-Centric: GraphVectorStore"
   ]
  },
  {
   "cell_type": "code",
   "execution_count": 4,
   "metadata": {},
   "outputs": [],
   "source": [
    "#@ Create GraphVectorStore\n",
    "from langchain_openai import OpenAIEmbeddings\n",
    "from langchain_community.graph_vectorstores.cassandra import CassandraGraphVectorStore\n",
    "import cassio\n",
    "\n",
    "cassio.init(auto=True)\n",
    "TABLE_NAME = \"wiki_load\"\n",
    "store = CassandraGraphVectorStore(\n",
    "    embedding = OpenAIEmbeddings(),\n",
    "    node_table=TABLE_NAME,\n",
    "    insert_timeout = 1000.0,\n",
    ")"
   ]
  },
  {
   "cell_type": "code",
   "execution_count": 6,
   "metadata": {},
   "outputs": [
    {
     "name": "stdout",
     "output_type": "stream",
     "text": [
      "Clearing data...\n",
      "Done\n"
     ]
    }
   ],
   "source": [
    "#@ Empty the table (optional)\n",
    "if input(\"clear data(y/N): \").lower() == \"y\":\n",
    "    print(\"Clearing data...\")\n",
    "    from cassio.config import check_resolve_session, check_resolve_keyspace\n",
    "    session = check_resolve_session()\n",
    "    keyspace = check_resolve_keyspace()\n",
    "\n",
    "    session.execute(f\"TRUNCATE TABLE {keyspace}.{TABLE_NAME};\")\n",
    "    print(\"Done\")\n",
    "else:\n",
    "    print(\"Skipped clearing data\")"
   ]
  },
  {
   "cell_type": "code",
   "execution_count": 8,
   "metadata": {},
   "outputs": [
    {
     "name": "stdout",
     "output_type": "stream",
     "text": [
      "Loading entity-centric data...\n",
      "Loaded (and written) in 1.43s\n"
     ]
    }
   ],
   "source": [
    "#@ Load Data Into GraphVectorStore\n",
    "if input(\"load data (y/N): \").lower() == \"y\":\n",
    "    print(\"Loading entity-centric data...\")\n",
    "    from time import perf_counter\n",
    "\n",
    "    start = perf_counter()\n",
    "    from datasets.wikimultihop.load import parse_document\n",
    "    kg_documents = [parse_document(line) for line in lines_to_load]\n",
    "    store.add_documents(kg_documents)\n",
    "    end = perf_counter()\n",
    "    print(f\"Loaded (and written) {NUM_LINES_TO_LOAD} in {end - start:0.2f}s\")\n",
    "else:\n",
    "    print(\"Skipped loading data\")"
   ]
  },
  {
   "cell_type": "markdown",
   "metadata": {},
   "source": [
    "When I run this, it takes about 1.43s to load these 100 documents. Under the hood, this extracts links from the wikipedia page. I have previously run all 5,989,847 documents from the dump through this process using async, and it took about 2.5 hours total. "
   ]
  },
  {
   "cell_type": "markdown",
   "metadata": {},
   "source": [
    "# Entity Centric: LLMGraphTrasnformer\n",
    "\n",
    "The following is based on LangChain's [\"How to construct knowledge graphs\"](https://python.langchain.com/docs/how_to/graph_constructing/#llm-graph-transformer). It uses `LLMGraphTransformer` to transform documents into knowledge graph nodes and edges."
   ]
  },
  {
   "cell_type": "code",
   "execution_count": 12,
   "metadata": {},
   "outputs": [
    {
     "name": "stdout",
     "output_type": "stream",
     "text": [
      "Loaded (but NOT written) in 1024.13s\n"
     ]
    }
   ],
   "source": [
    "from langchain_core.documents import Document\n",
    "from langchain_experimental.graph_transformers import LLMGraphTransformer\n",
    "from langchain_openai import ChatOpenAI\n",
    "\n",
    "llm = ChatOpenAI(temperature=0, model_name=\"gpt-4-turbo\")\n",
    "llm_transformer = LLMGraphTransformer(llm=llm)\n",
    "\n",
    "from time import perf_counter\n",
    "start = perf_counter()\n",
    "\n",
    "documents_to_load = [Document(page_content=line) for line in lines_to_load]\n",
    "graph_documents = llm_transformer.convert_to_graph_documents(documents_to_load)\n",
    "\n",
    "end = perf_counter()\n",
    "print(f\"Loaded (but NOT written) {NUM_LINES_TO_LOAD} in {end - start:0.2f}s\")"
   ]
  },
  {
   "cell_type": "code",
   "execution_count": null,
   "metadata": {},
   "outputs": [],
   "source": [
    "from langchain_community.graphs.memgraph_graph import MemgraphGraph\n",
    "\n",
    "from time import perf_counter\n",
    "start = perf_counter()\n",
    "\n",
    "graph_store = MemgraphGraph(url = \"\", username = \"\", password = \"\")\n",
    "graph_store.add_graph_documents(graph_documents)\n",
    "\n",
    "end = perf_counter()\n",
    "print(f\"Written in {end - start:0.2f}s\")"
   ]
  },
  {
   "cell_type": "markdown",
   "metadata": {},
   "source": [
    "Just loading the data (not writing it to a Graph Store) took 1024.13s. Extrapolating to all 5,989,847 documents, this would be 710 days -- nearly 2 **years**! Of course, there are likely similar opportunities for parallelism -- assuming the same reduction, that would get it down to a mere 74 days. Assuming that could be done in a fault-tolerant way (or no errors happened), the resulting graph documents would still need to be written to a graph store."
   ]
  },
  {
   "cell_type": "markdown",
   "metadata": {},
   "source": [
    "# Conclusion\n",
    "In this short notebook, we saw how articles from a Wikipedia dump could be loaded into a `GraphVectorStore` in mere hours. The same content would take months of processing time and incur significant LLM costs to load into a knowledge graph."
   ]
  }
 ],
 "metadata": {
  "kernelspec": {
   "display_name": ".venv",
   "language": "python",
   "name": "python3"
  },
  "language_info": {
   "codemirror_mode": {
    "name": "ipython",
    "version": 3
   },
   "file_extension": ".py",
   "mimetype": "text/x-python",
   "name": "python",
   "nbconvert_exporter": "python",
   "pygments_lexer": "ipython3",
   "version": "3.11.4"
  }
 },
 "nbformat": 4,
 "nbformat_minor": 2
}
